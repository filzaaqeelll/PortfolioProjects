{
 "cells": [
  {
   "cell_type": "markdown",
   "id": "a3f57016-b723-4032-bba0-1b85020c295e",
   "metadata": {},
   "source": [
    "# Cancer Outcomes & Cost Drivers — Patient-Level Analysis"
   ]
  },
  {
   "cell_type": "markdown",
   "id": "cc4f7cb4-d0a0-4f62-81fb-fe5313a0f992",
   "metadata": {},
   "source": [
    "\n",
    "\n",
    "**Objective.** Identify the top factors associated with **shorter survival** and **higher treatment cost** in cancer patients, and quantify their impact.\n",
    "\n",
    "**Primary question (analytics problem):**  \n",
    "> Which patient and clinical features most strongly explain **Survival_Years**?  \n",
    "\n",
    "**Secondary question (cost lens):**  \n",
    "> Which features drive **Treatment_Cost_USD**, and how does cost relate to disease severity?\n",
    "\n",
    "**Business value / stakeholder view:**  \n",
    "- Clinicians: early risk flags for patients likely to have shorter survival.  \n",
    "- Hospital admin / payers: cost drivers that inform budgeting and care pathways.  \n",
    "- Policy: country/region patterns that correlate with risk and cost.\n",
    "\n",
    "**Success criteria (measurable):**  \n",
    "- A ranked list of key drivers (effect sizes / feature importances).  \n",
    "- Predictive baseline with clear, honest performance (e.g., RMSE/MAE for Survival_Years).  \n",
    "- At least 3 actionable insights + 2 limitations.\n",
    "  "
   ]
  },
  {
   "cell_type": "markdown",
   "id": "0e7885f1-05f4-4a55-9bbf-4fe08dfc2a62",
   "metadata": {},
   "source": [
    "## Data Card\n",
    "\n",
    "- **Source:** [Kaggle — Cancer Patient Data](https://www.kaggle.com/) (public dataset, anonymized and non-identifiable).  \n",
    "  \n",
    "- **Unit of analysis:** Patient record (one row = one patient).  \n",
    "- **Target(s):** `Survival_Years` (continuous), `Treatment_Cost_USD` (continuous).  \n",
    "- **Key features (examples):** `Age`, `Gender`, `Country_Region`, `Year`, `Genetic_Risk`, `Air_Pollution`, `Alcohol_Use`, `Smoking`, `Obesity_Level`, `Cancer_Type`, `Cancer_Stage`, `Target_Severity_Score`.  \n",
    "- **Assumptions:** Missing values are not systematic; zeros may be placeholders in certain numeric fields.  \n",
    "- **Ethics:** This is a de-identified educational dataset; insights are illustrative and **not** clinical advice.\n"
   ]
  },
  {
   "cell_type": "markdown",
   "id": "cfd6972c-288d-4755-a186-af84eaf1c7da",
   "metadata": {},
   "source": [
    "## Project Roadmap\n",
    "\n",
    "1) **Data Understanding & Set-up** — quick audit of schema, missingness, and data quality.  \n",
    "2) **Cleaning & Feature Prep** — type fixes, outlier/zero handling, categorical standardization, derived features.  \n",
    "3) **EDA (Guided by the Problem)** — distributions and relationships, always tied back to survival and cost.  \n",
    "4) **Modeling Baseline** — simple, transparent baseline (e.g., linear/logistic) with honest metrics.  \n",
    "5) **Insights & Recommendations** — ranked drivers, cost levers, edge cases.  \n",
    "6) **Limitations & Next Steps** — where the analysis may mislead, and how to improve.  \n",
    "7) **Reproducibility** — environment, seeds, and a single `df` pipeline."
   ]
  },
  {
   "cell_type": "markdown",
   "id": "351a2349-e0e0-471f-ad36-12bca5924fe9",
   "metadata": {},
   "source": [
    "## Author  \n",
    "Filza Aqeel"
   ]
  },
  {
   "cell_type": "code",
   "execution_count": 6,
   "id": "e360974c-5435-4517-a09c-6875d74ff741",
   "metadata": {},
   "outputs": [],
   "source": [
    "# Core libraries\n",
    "import pandas as pd\n",
    "import numpy as np\n",
    "\n",
    "# Visualization\n",
    "import matplotlib.pyplot as plt\n",
    "import seaborn as sns\n",
    "\n",
    "# Modeling (will use later)\n",
    "from sklearn.model_selection import train_test_split\n",
    "from sklearn.linear_model import LogisticRegression\n",
    "from sklearn.metrics import accuracy_score, confusion_matrix, classification_report\n"
   ]
  },
  {
   "cell_type": "markdown",
   "id": "8b22ae8e-e05c-4fbc-acf5-1525e528a119",
   "metadata": {},
   "source": [
    "### Loading Dataset with Custom NA Handling  \n",
    "\n",
    "The dataset contains various placeholders for missing values (e.g., `Na`, `--`, `Unknown`).  \n",
    "We standardize them as proper `NaN` entries during import to ensure consistent cleaning."
   ]
  },
  {
   "cell_type": "code",
   "execution_count": 8,
   "id": "a729afcd-ff52-4d8b-9870-b8c4b4feb4ea",
   "metadata": {
    "scrolled": true
   },
   "outputs": [
    {
     "data": {
      "text/html": [
       "<div>\n",
       "<style scoped>\n",
       "    .dataframe tbody tr th:only-of-type {\n",
       "        vertical-align: middle;\n",
       "    }\n",
       "\n",
       "    .dataframe tbody tr th {\n",
       "        vertical-align: top;\n",
       "    }\n",
       "\n",
       "    .dataframe thead th {\n",
       "        text-align: right;\n",
       "    }\n",
       "</style>\n",
       "<table border=\"1\" class=\"dataframe\">\n",
       "  <thead>\n",
       "    <tr style=\"text-align: right;\">\n",
       "      <th></th>\n",
       "      <th>Patient_ID</th>\n",
       "      <th>Age</th>\n",
       "      <th>Gender</th>\n",
       "      <th>Country_Region</th>\n",
       "      <th>Year</th>\n",
       "      <th>Genetic_Risk</th>\n",
       "      <th>Air_Pollution</th>\n",
       "      <th>Alcohol_Use</th>\n",
       "      <th>Smoking</th>\n",
       "      <th>Obesity_Level</th>\n",
       "      <th>Cancer_Type</th>\n",
       "      <th>Cancer_Stage</th>\n",
       "      <th>Treatment_Cost_USD</th>\n",
       "      <th>Survival_Years</th>\n",
       "      <th>Target_Severity_Score</th>\n",
       "    </tr>\n",
       "  </thead>\n",
       "  <tbody>\n",
       "    <tr>\n",
       "      <th>0</th>\n",
       "      <td>PT0000000</td>\n",
       "      <td>71</td>\n",
       "      <td>Male</td>\n",
       "      <td>UK</td>\n",
       "      <td>2021</td>\n",
       "      <td>high</td>\n",
       "      <td>2.8</td>\n",
       "      <td>9.5</td>\n",
       "      <td>0.9</td>\n",
       "      <td>8.7</td>\n",
       "      <td>Lung</td>\n",
       "      <td>Stage III</td>\n",
       "      <td>62913.44</td>\n",
       "      <td>5.8</td>\n",
       "      <td>4.92</td>\n",
       "    </tr>\n",
       "    <tr>\n",
       "      <th>1</th>\n",
       "      <td>PT0000001</td>\n",
       "      <td>34</td>\n",
       "      <td>Male</td>\n",
       "      <td>China</td>\n",
       "      <td>2021</td>\n",
       "      <td>1.3</td>\n",
       "      <td>4.5</td>\n",
       "      <td>3.7</td>\n",
       "      <td>3.9</td>\n",
       "      <td>NaN</td>\n",
       "      <td>Leukemia</td>\n",
       "      <td>Stage 0</td>\n",
       "      <td>12573.41</td>\n",
       "      <td>7.8</td>\n",
       "      <td>4.65</td>\n",
       "    </tr>\n",
       "    <tr>\n",
       "      <th>2</th>\n",
       "      <td>PT0000002</td>\n",
       "      <td>80</td>\n",
       "      <td>Male</td>\n",
       "      <td>NaN</td>\n",
       "      <td>2023</td>\n",
       "      <td>7.4</td>\n",
       "      <td>7.9</td>\n",
       "      <td>2.4</td>\n",
       "      <td>4.7</td>\n",
       "      <td>0.1</td>\n",
       "      <td>Breast</td>\n",
       "      <td>Stage II</td>\n",
       "      <td>6984.33</td>\n",
       "      <td>6</td>\n",
       "      <td>5.84</td>\n",
       "    </tr>\n",
       "    <tr>\n",
       "      <th>3</th>\n",
       "      <td>PT0000003</td>\n",
       "      <td>40</td>\n",
       "      <td>1</td>\n",
       "      <td>UK</td>\n",
       "      <td>2015</td>\n",
       "      <td>1.7</td>\n",
       "      <td>2.9</td>\n",
       "      <td>4.8</td>\n",
       "      <td>3.5</td>\n",
       "      <td>2.7</td>\n",
       "      <td>Colon</td>\n",
       "      <td>Stage I</td>\n",
       "      <td>67446.25</td>\n",
       "      <td>1</td>\n",
       "      <td>3.12</td>\n",
       "    </tr>\n",
       "    <tr>\n",
       "      <th>4</th>\n",
       "      <td>PT0000004</td>\n",
       "      <td>43</td>\n",
       "      <td>Female</td>\n",
       "      <td>Brazil</td>\n",
       "      <td>2017</td>\n",
       "      <td>5.1</td>\n",
       "      <td>2.8</td>\n",
       "      <td>2.3</td>\n",
       "      <td>6.7</td>\n",
       "      <td>0.5</td>\n",
       "      <td>NaN</td>\n",
       "      <td>2</td>\n",
       "      <td>77977.12</td>\n",
       "      <td>9</td>\n",
       "      <td>3.62</td>\n",
       "    </tr>\n",
       "  </tbody>\n",
       "</table>\n",
       "</div>"
      ],
      "text/plain": [
       "  Patient_ID Age  Gender Country_Region  Year Genetic_Risk  Air_Pollution  \\\n",
       "0  PT0000000  71    Male             UK  2021         high            2.8   \n",
       "1  PT0000001  34    Male          China  2021          1.3            4.5   \n",
       "2  PT0000002  80    Male            NaN  2023          7.4            7.9   \n",
       "3  PT0000003  40       1             UK  2015          1.7            2.9   \n",
       "4  PT0000004  43  Female         Brazil  2017          5.1            2.8   \n",
       "\n",
       "  Alcohol_Use Smoking  Obesity_Level Cancer_Type Cancer_Stage  \\\n",
       "0         9.5     0.9            8.7        Lung    Stage III   \n",
       "1         3.7     3.9            NaN    Leukemia      Stage 0   \n",
       "2         2.4     4.7            0.1      Breast     Stage II   \n",
       "3         4.8     3.5            2.7       Colon      Stage I   \n",
       "4         2.3     6.7            0.5         NaN            2   \n",
       "\n",
       "  Treatment_Cost_USD Survival_Years  Target_Severity_Score  \n",
       "0           62913.44            5.8                   4.92  \n",
       "1           12573.41            7.8                   4.65  \n",
       "2            6984.33              6                   5.84  \n",
       "3           67446.25              1                   3.12  \n",
       "4           77977.12              9                   3.62  "
      ]
     },
     "execution_count": 8,
     "metadata": {},
     "output_type": "execute_result"
    }
   ],
   "source": [
    "missing = [\"unknown\",\"Unknown\",\"NAN\",\"Na\",\"N/A\",\"NA\",\"na\",\"--\",\"\",\"Nan\",\"none\",\"nan\"]\n",
    "\n",
    "# Load dataset with custom NA values\n",
    "data= pd.read_csv(\"global_cancer_patients_uncleaned.csv\", na_values=missing)\n",
    "\n",
    "# Quick preview\n",
    "data.head()\n",
    "\n"
   ]
  },
  {
   "cell_type": "markdown",
   "id": "99b5a62f-355f-4e19-b4c0-42346f77988e",
   "metadata": {},
   "source": [
    "### Dataset Overview  \n",
    "\n",
    "We inspect the dataset’s schema and data types to understand its structure.  \n",
    "This helps identify categorical vs numerical features, and any potential issues in formatting."
   ]
  },
  {
   "cell_type": "code",
   "execution_count": 10,
   "id": "8cf090d1-0e60-4726-b2f0-0648d5043941",
   "metadata": {},
   "outputs": [
    {
     "name": "stdout",
     "output_type": "stream",
     "text": [
      "<class 'pandas.core.frame.DataFrame'>\n",
      "RangeIndex: 50001 entries, 0 to 50000\n",
      "Data columns (total 15 columns):\n",
      " #   Column                 Non-Null Count  Dtype  \n",
      "---  ------                 --------------  -----  \n",
      " 0   Patient_ID             49988 non-null  object \n",
      " 1   Age                    50000 non-null  object \n",
      " 2   Gender                 50000 non-null  object \n",
      " 3   Country_Region         49998 non-null  object \n",
      " 4   Year                   49997 non-null  object \n",
      " 5   Genetic_Risk           49986 non-null  object \n",
      " 6   Air_Pollution          49986 non-null  float64\n",
      " 7   Alcohol_Use            49986 non-null  object \n",
      " 8   Smoking                49987 non-null  object \n",
      " 9   Obesity_Level          49998 non-null  float64\n",
      " 10  Cancer_Type            49998 non-null  object \n",
      " 11  Cancer_Stage           49996 non-null  object \n",
      " 12  Treatment_Cost_USD     49999 non-null  object \n",
      " 13  Survival_Years         50001 non-null  object \n",
      " 14  Target_Severity_Score  49999 non-null  float64\n",
      "dtypes: float64(3), object(12)\n",
      "memory usage: 5.7+ MB\n"
     ]
    }
   ],
   "source": [
    "data.info()"
   ]
  },
  {
   "cell_type": "markdown",
   "id": "8297404c-ea43-4298-ba07-108b4b85170c",
   "metadata": {},
   "source": [
    "### Descriptive Statistics  \n",
    "\n",
    "Summary statistics for numerical features give a first look at central tendencies and spread.  \n",
    "This helps spot unusual ranges, skewness, and possible data entry errors."
   ]
  },
  {
   "cell_type": "code",
   "execution_count": 12,
   "id": "ab6a58a8-4ed6-44bb-9f5f-9bcd772aa51e",
   "metadata": {},
   "outputs": [
    {
     "data": {
      "text/html": [
       "<div>\n",
       "<style scoped>\n",
       "    .dataframe tbody tr th:only-of-type {\n",
       "        vertical-align: middle;\n",
       "    }\n",
       "\n",
       "    .dataframe tbody tr th {\n",
       "        vertical-align: top;\n",
       "    }\n",
       "\n",
       "    .dataframe thead th {\n",
       "        text-align: right;\n",
       "    }\n",
       "</style>\n",
       "<table border=\"1\" class=\"dataframe\">\n",
       "  <thead>\n",
       "    <tr style=\"text-align: right;\">\n",
       "      <th></th>\n",
       "      <th>Air_Pollution</th>\n",
       "      <th>Obesity_Level</th>\n",
       "      <th>Target_Severity_Score</th>\n",
       "    </tr>\n",
       "  </thead>\n",
       "  <tbody>\n",
       "    <tr>\n",
       "      <th>count</th>\n",
       "      <td>49986.000000</td>\n",
       "      <td>49998.000000</td>\n",
       "      <td>49999.000000</td>\n",
       "    </tr>\n",
       "    <tr>\n",
       "      <th>mean</th>\n",
       "      <td>5.010013</td>\n",
       "      <td>4.991044</td>\n",
       "      <td>4.949270</td>\n",
       "    </tr>\n",
       "    <tr>\n",
       "      <th>std</th>\n",
       "      <td>2.888484</td>\n",
       "      <td>2.894541</td>\n",
       "      <td>1.203224</td>\n",
       "    </tr>\n",
       "    <tr>\n",
       "      <th>min</th>\n",
       "      <td>0.000000</td>\n",
       "      <td>0.000000</td>\n",
       "      <td>0.000000</td>\n",
       "    </tr>\n",
       "    <tr>\n",
       "      <th>25%</th>\n",
       "      <td>2.500000</td>\n",
       "      <td>2.500000</td>\n",
       "      <td>4.120000</td>\n",
       "    </tr>\n",
       "    <tr>\n",
       "      <th>50%</th>\n",
       "      <td>5.000000</td>\n",
       "      <td>5.000000</td>\n",
       "      <td>4.950000</td>\n",
       "    </tr>\n",
       "    <tr>\n",
       "      <th>75%</th>\n",
       "      <td>7.500000</td>\n",
       "      <td>7.500000</td>\n",
       "      <td>5.780000</td>\n",
       "    </tr>\n",
       "    <tr>\n",
       "      <th>max</th>\n",
       "      <td>10.000000</td>\n",
       "      <td>10.000000</td>\n",
       "      <td>9.160000</td>\n",
       "    </tr>\n",
       "  </tbody>\n",
       "</table>\n",
       "</div>"
      ],
      "text/plain": [
       "       Air_Pollution  Obesity_Level  Target_Severity_Score\n",
       "count   49986.000000   49998.000000           49999.000000\n",
       "mean        5.010013       4.991044               4.949270\n",
       "std         2.888484       2.894541               1.203224\n",
       "min         0.000000       0.000000               0.000000\n",
       "25%         2.500000       2.500000               4.120000\n",
       "50%         5.000000       5.000000               4.950000\n",
       "75%         7.500000       7.500000               5.780000\n",
       "max        10.000000      10.000000               9.160000"
      ]
     },
     "execution_count": 12,
     "metadata": {},
     "output_type": "execute_result"
    }
   ],
   "source": [
    "data.describe()\n"
   ]
  },
  {
   "cell_type": "code",
   "execution_count": 13,
   "id": "7a7bcc87-ff24-4231-abb2-af25fb3e4ad0",
   "metadata": {},
   "outputs": [
    {
     "data": {
      "text/plain": [
       "(50001, 15)"
      ]
     },
     "execution_count": 13,
     "metadata": {},
     "output_type": "execute_result"
    }
   ],
   "source": [
    "data.shape"
   ]
  },
  {
   "cell_type": "markdown",
   "id": "3a7c4731-30f2-41ab-8b16-004c6b86809d",
   "metadata": {},
   "source": [
    "### Missing Values Audit  \n",
    "\n",
    "We check how many missing values exist in each column.  \n",
    "This informs how we handle gaps (e.g., imputation or removal)."
   ]
  },
  {
   "cell_type": "code",
   "execution_count": 15,
   "id": "1312deb0-9f11-4e8c-acc2-141e8b3c9bb7",
   "metadata": {},
   "outputs": [
    {
     "data": {
      "text/plain": [
       "Patient_ID               13\n",
       "Age                       1\n",
       "Gender                    1\n",
       "Country_Region            3\n",
       "Year                      4\n",
       "Genetic_Risk             15\n",
       "Air_Pollution            15\n",
       "Alcohol_Use              15\n",
       "Smoking                  14\n",
       "Obesity_Level             3\n",
       "Cancer_Type               3\n",
       "Cancer_Stage              5\n",
       "Treatment_Cost_USD        2\n",
       "Survival_Years            0\n",
       "Target_Severity_Score     2\n",
       "dtype: int64"
      ]
     },
     "execution_count": 15,
     "metadata": {},
     "output_type": "execute_result"
    }
   ],
   "source": [
    "data.isnull().sum()"
   ]
  },
  {
   "cell_type": "markdown",
   "id": "8398b1ae-a3cf-4a20-a8a9-9e345af219b4",
   "metadata": {},
   "source": [
    "Most missing values are found in [Genetic_Risk, Air_Pollution, Alcohol_Use, Smoking].  \n",
    "We will handle these by [dropping rows / filling with median or mode].  "
   ]
  },
  {
   "cell_type": "code",
   "execution_count": 17,
   "id": "2e9b1802-67e7-4783-a228-d120e7d61fce",
   "metadata": {},
   "outputs": [
    {
     "name": "stderr",
     "output_type": "stream",
     "text": [
      "C:\\Users\\ukash\\AppData\\Local\\Temp\\ipykernel_22672\\2032528803.py:7: FutureWarning: A value is trying to be set on a copy of a DataFrame or Series through chained assignment using an inplace method.\n",
      "The behavior will change in pandas 3.0. This inplace method will never work because the intermediate object on which we are setting values always behaves as a copy.\n",
      "\n",
      "For example, when doing 'df[col].method(value, inplace=True)', try using 'df.method({col: value}, inplace=True)' or df[col] = df[col].method(value) instead, to perform the operation inplace on the original object.\n",
      "\n",
      "\n",
      "  data[col].fillna(data[col].mode()[0], inplace=True)\n"
     ]
    }
   ],
   "source": [
    "# Fill missing numerical values with median\n",
    "data.fillna(data.median(numeric_only=True), inplace=True)\n",
    "\n",
    "# Fill missing categorical values with mode\n",
    "for col in data.select_dtypes(include=['object']).columns:\n",
    "    \n",
    "    data[col].fillna(data[col].mode()[0], inplace=True)\n"
   ]
  },
  {
   "cell_type": "markdown",
   "id": "efac266d-c8cd-48d8-88b6-2ef7bcac894c",
   "metadata": {},
   "source": [
    "### Data Validation — Spotting Corrupt Values  \n",
    "\n",
    "After basic cleaning, we inspect the **unique values** in key columns  \n",
    "to catch inconsistencies (e.g., `1` vs `I` for Cancer_Stage, typos in Gender, corrupted Patient_IDs).  \n",
    "We use `.value_counts()` and `.describe()` to flag anomalies."
   ]
  },
  {
   "cell_type": "code",
   "execution_count": 19,
   "id": "d3c9dca1-a558-49ae-aa61-c47dec0f8208",
   "metadata": {},
   "outputs": [
    {
     "data": {
      "text/plain": [
       "Country_Region\n",
       "Australia    5092\n",
       "UK           5061\n",
       "USA          5060\n",
       "India        5039\n",
       "Germany      5023\n",
       "Russia       5017\n",
       "Brazil       5004\n",
       "Pakistan     4924\n",
       "China        4913\n",
       "Canada       4863\n",
       "aussie          2\n",
       "pk              1\n",
       "Aus             1\n",
       "ind             1\n",
       "Name: count, dtype: int64"
      ]
     },
     "execution_count": 19,
     "metadata": {},
     "output_type": "execute_result"
    }
   ],
   "source": [
    "data[\"Country_Region\"].value_counts()"
   ]
  },
  {
   "cell_type": "code",
   "execution_count": 20,
   "id": "15343a2d-4a7e-4948-a484-581d098016fa",
   "metadata": {},
   "outputs": [
    {
     "data": {
      "text/plain": [
       "Cancer_Type\n",
       "Colon       6379\n",
       "Prostate    6307\n",
       "Leukemia    6266\n",
       "Liver       6249\n",
       "Skin        6230\n",
       "Cervical    6222\n",
       "Breast      6188\n",
       "Lung        6159\n",
       "1              1\n",
       "Name: count, dtype: int64"
      ]
     },
     "execution_count": 20,
     "metadata": {},
     "output_type": "execute_result"
    }
   ],
   "source": [
    "data[\"Cancer_Type\"].value_counts()"
   ]
  },
  {
   "cell_type": "code",
   "execution_count": 21,
   "id": "fb6f1888-be40-48db-96d3-3dbcc55119fe",
   "metadata": {},
   "outputs": [
    {
     "data": {
      "text/plain": [
       "Gender\n",
       "Male      16794\n",
       "Female    16705\n",
       "Other     16495\n",
       "1             3\n",
       "F             1\n",
       "2             1\n",
       "M             1\n",
       "f             1\n",
       "Name: count, dtype: int64"
      ]
     },
     "execution_count": 21,
     "metadata": {},
     "output_type": "execute_result"
    }
   ],
   "source": [
    "data[\"Gender\"].value_counts()\t"
   ]
  },
  {
   "cell_type": "code",
   "execution_count": 22,
   "id": "ed03917e-34ff-4acc-b9d6-5131446f232d",
   "metadata": {},
   "outputs": [
    {
     "data": {
      "text/plain": [
       "Cancer_Stage\n",
       "Stage II     10126\n",
       "Stage I      10045\n",
       "Stage III    10005\n",
       "Stage IV      9932\n",
       "Stage 0       9887\n",
       "2                3\n",
       "0                1\n",
       "1                1\n",
       "3                1\n",
       "Name: count, dtype: int64"
      ]
     },
     "execution_count": 22,
     "metadata": {},
     "output_type": "execute_result"
    }
   ],
   "source": [
    "data[\"Cancer_Stage\"].value_counts()"
   ]
  },
  {
   "cell_type": "code",
   "execution_count": 23,
   "id": "54a04790-5d80-4b79-93f2-19155d07f4e9",
   "metadata": {},
   "outputs": [
    {
     "data": {
      "text/plain": [
       "Patient_ID\n",
       "PT0000003    15\n",
       "PT0000000     1\n",
       "PT0033341     1\n",
       "PT0033331     1\n",
       "PT0033332     1\n",
       "PT0033333     1\n",
       "PT0033334     1\n",
       "PT0033335     1\n",
       "PT0033336     1\n",
       "PT0033337     1\n",
       "Name: count, dtype: int64"
      ]
     },
     "execution_count": 23,
     "metadata": {},
     "output_type": "execute_result"
    }
   ],
   "source": [
    "data['Patient_ID'].value_counts(dropna=False).head(10)"
   ]
  },
  {
   "cell_type": "code",
   "execution_count": 24,
   "id": "bbdcd39d-20c1-4e1b-9ec7-a62348f2d501",
   "metadata": {},
   "outputs": [
    {
     "data": {
      "text/plain": [
       "Survival_Years\n",
       "0      249\n",
       "0.1    479\n",
       "0.2    511\n",
       "0.3    503\n",
       "0.4    468\n",
       "0.5    514\n",
       "0.6    504\n",
       "0.7    474\n",
       "0.8    466\n",
       "0.9    522\n",
       "1      494\n",
       "1.1    496\n",
       "1.2    482\n",
       "1.3    481\n",
       "1.4    515\n",
       "1.5    519\n",
       "1.6    501\n",
       "1.7    496\n",
       "1.8    480\n",
       "1.9    502\n",
       "Name: count, dtype: int64"
      ]
     },
     "execution_count": 24,
     "metadata": {},
     "output_type": "execute_result"
    }
   ],
   "source": [
    "data['Survival_Years'].describe()\n",
    "data['Survival_Years'].value_counts().sort_index().head(20)"
   ]
  },
  {
   "cell_type": "markdown",
   "id": "35690097-69ab-480b-854b-a231acaf3744",
   "metadata": {},
   "source": [
    "# Handling Inconsistent or Corrupted Data Values "
   ]
  },
  {
   "cell_type": "code",
   "execution_count": 26,
   "id": "262dc0c6-fd28-4698-8b94-b3cb01150278",
   "metadata": {},
   "outputs": [],
   "source": [
    "data['Patient_ID'] = [\"PT\" + str(i+1).zfill(7) for i in range(len(data))]"
   ]
  },
  {
   "cell_type": "code",
   "execution_count": 47,
   "id": "3ec5ae9e-4b0a-4c56-8c39-57be413a97d6",
   "metadata": {},
   "outputs": [
    {
     "name": "stdout",
     "output_type": "stream",
     "text": [
      "Duplicates: 0\n"
     ]
    }
   ],
   "source": [
    "print(\"Duplicates:\", data['Patient_ID'].duplicated().sum())"
   ]
  },
  {
   "cell_type": "markdown",
   "id": "1859f5dd-2c8e-4953-addf-7b9bf6132101",
   "metadata": {},
   "source": [
    "### Handling Column: Patient_ID\n",
    "\n",
    "Issues observed:  \n",
    "- 13 missing Patient_IDs  \n",
    "- Several duplicates (e.g., `PT0000003` appeared 15 times)  \n",
    "- Isolated corrupted entries (e.g., `PT0033341`)  \n",
    "\n",
    "Fix applied:  \n",
    "- Regenerated new sequential IDs (`PT0000001`, `PT0000002`, …) based on row order.  \n",
    "- Ensured no missing or duplicate identifiers remained.  "
   ]
  },
  {
   "cell_type": "code",
   "execution_count": 50,
   "id": "c95ccfdc-5011-46dd-82db-8028bc742e9c",
   "metadata": {},
   "outputs": [],
   "source": [
    "# Fix typo first\n",
    "data[\"Age\"] = data[\"Age\"].replace(\"fourty\", 40)\n",
    "\n",
    "# Convert to numeric\n",
    "data[\"Age\"] = pd.to_numeric(data[\"Age\"], errors=\"coerce\")\n",
    "\n",
    "# Fill any remaining NaNs with median age\n",
    "data[\"Age\"] = data[\"Age\"].fillna(data[\"Age\"].median())\n",
    "\n",
    "# Finally convert to integer\n",
    "data[\"Age\"] = data[\"Age\"].astype(int)"
   ]
  },
  {
   "cell_type": "code",
   "execution_count": 52,
   "id": "c5d91d9d-a4aa-480b-8e7f-0c2bf74138b5",
   "metadata": {},
   "outputs": [
    {
     "name": "stdout",
     "output_type": "stream",
     "text": [
      "Min age: 20\n",
      "Max age: 89\n",
      "Missing ages: 0\n"
     ]
    }
   ],
   "source": [
    "print(\"Min age:\", data[\"Age\"].min())\n",
    "print(\"Max age:\", data[\"Age\"].max())\n",
    "print(\"Missing ages:\", data[\"Age\"].isna().sum())"
   ]
  },
  {
   "cell_type": "markdown",
   "id": "06239b43-5f6e-4099-bb31-27f0d42bb016",
   "metadata": {},
   "source": [
    "### Handling Column: Age\n",
    "\n",
    "- Identified one corrupted entry: `\"fourty\"`.  \n",
    "- Replaced it with the correct numeric value `40`.  \n",
    "- Converted Age to integer type for consistency.  "
   ]
  },
  {
   "cell_type": "code",
   "execution_count": 55,
   "id": "01a92d7f-f758-441d-9db7-b276ad306ad5",
   "metadata": {},
   "outputs": [],
   "source": [
    "data[\"Gender\"] = data[\"Gender\"].replace({\n",
    "    \"f\": \"Female\", \"F\": \"Female\", \"2\": \"Female\",\n",
    "    \"M\": \"Male\", \"1\": \"Male\"\n",
    "})\n",
    "# Keep only 'Male' and 'Female' values\n",
    "data[\"Gender\"] = data[\"Gender\"].where(data[\"Gender\"].isin([\"Male\", \"Female\"]))"
   ]
  },
  {
   "cell_type": "code",
   "execution_count": 57,
   "id": "81fbc3b8-36bb-49a8-87b2-a76b8fb91eee",
   "metadata": {},
   "outputs": [
    {
     "name": "stdout",
     "output_type": "stream",
     "text": [
      "Gender\n",
      "Male       0.335953\n",
      "Female     0.334153\n",
      "Unknown    0.329893\n",
      "Name: proportion, dtype: float64\n"
     ]
    }
   ],
   "source": [
    "#handling null values\n",
    "data[\"Gender\"] = data[\"Gender\"].fillna(\"Unknown\")\n",
    "print(data[\"Gender\"].value_counts(normalize=True))"
   ]
  },
  {
   "cell_type": "code",
   "execution_count": 59,
   "id": "87d5586f-3124-49b3-98ef-ff3213988315",
   "metadata": {},
   "outputs": [],
   "source": [
    "# Convert to numeric safely\n",
    "data[\"Genetic_Risk\"]=pd.to_numeric(data[\"Genetic_Risk\"],errors=\"coerce\")\n",
    "# Fill missing with median (likely 2 = Medium)\n",
    "data[\"Genetic_Risk\"]=data[\"Genetic_Risk\"].fillna(data[\"Genetic_Risk\"].median())"
   ]
  },
  {
   "cell_type": "markdown",
   "id": "17cf95b7-302f-423f-9180-22c4d6108457",
   "metadata": {},
   "source": [
    "### Handling Column: Genetic_Risk  \n",
    "\n",
    "- Converted to numeric and coerced invalid entries to NaN.  \n",
    "- Imputed missing values using the median score.  "
   ]
  },
  {
   "cell_type": "code",
   "execution_count": 62,
   "id": "f169827b-9ead-4b94-a039-80033c4aa60b",
   "metadata": {},
   "outputs": [],
   "source": [
    "# Convert to numeric\n",
    "data[\"Air_Pollution\"] = pd.to_numeric(data[\"Air_Pollution\"], errors=\"coerce\")\n",
    "\n",
    "# Treat invalid values\n",
    "data.loc[data[\"Air_Pollution\"] < 0, \"Air_Pollution\"] = np.nan\n",
    "\n",
    "# Impute with median\n",
    "data[\"Air_Pollution\"] = data[\"Air_Pollution\"].fillna(data[\"Air_Pollution\"].median())"
   ]
  },
  {
   "cell_type": "markdown",
   "id": "188d27c1-58d1-410e-b750-50de9176d672",
   "metadata": {},
   "source": [
    "### Handling Column: Air_Pollution\n",
    "\n",
    "- Converted column to numeric and coerced invalid text into NaN.  \n",
    "- Treated negative values as invalid and set them to NaN.  \n",
    "- Replaced missing/invalid values with the median exposure level.  \n",
    "- This ensures the feature is consistent and usable as a predictor.  \n"
   ]
  },
  {
   "cell_type": "code",
   "execution_count": 65,
   "id": "cddfadc3-994c-4241-916b-4ad42c2f3e86",
   "metadata": {},
   "outputs": [],
   "source": [
    "# First replace \"FALSE\" with 0\n",
    "data[\"Alcohol_Use\"] = data[\"Alcohol_Use\"].replace(\"FALSE\", 0)\n",
    "\n",
    "# Convert everything to numeric\n",
    "data[\"Alcohol_Use\"] = pd.to_numeric(data[\"Alcohol_Use\"], errors=\"coerce\")\n",
    "\n",
    "# Remove impossible negatives\n",
    "data.loc[data[\"Alcohol_Use\"] < 0, \"Alcohol_Use\"] = np.nan\n",
    "\n",
    "# Impute missing/invalid with median\n",
    "data[\"Alcohol_Use\"] = data[\"Alcohol_Use\"].fillna(data[\"Alcohol_Use\"].median())"
   ]
  },
  {
   "cell_type": "markdown",
   "id": "2892f9c3-e8ee-402b-8685-fba38b15dfe0",
   "metadata": {},
   "source": [
    "### Handling Column: Alcohol_Use\n",
    "\n",
    "- Column represents alcohol use scores (0–10).  \n",
    "- Found a stray `\"FALSE\"` entry → replaced with `0`.  \n",
    "- Converted all values to numeric and coerced invalid text into NaN.  \n",
    "- Negative values treated as invalid.  \n",
    "- Missing/invalid values imputed with the **median alcohol use score**"
   ]
  },
  {
   "cell_type": "code",
   "execution_count": 68,
   "id": "922ad948-6372-4afb-9b14-3d98255c5ccc",
   "metadata": {},
   "outputs": [],
   "source": [
    "# Standardize case + strip spaces\n",
    "data[\"Country_Region\"] = data[\"Country_Region\"].str.strip().str.title()\n",
    "\n",
    "# Fix common variations\n",
    "country_fixes = {\n",
    "    \"Uk\": \"United Kingdom\",\n",
    "    \"Usa\": \"United States\",\n",
    "    \"Pk\": \"Pakistan\",\n",
    "    \"Ind\": \"India\",\n",
    "    \"Aussie\": \"Australia\",\n",
    "    \"Aus\": \"Australia\"\n",
    "}\n",
    "data[\"Country_Region\"] = data[\"Country_Region\"].replace(country_fixes)\n"
   ]
  },
  {
   "cell_type": "markdown",
   "id": "5c840b97-4787-4eb6-a921-4109385b095b",
   "metadata": {},
   "source": [
    "### Handling Column: Country_Region \n",
    "- Found inconsistent entries such as `aussie`, `pk`, `ind`, `Aus`, `UK`, `USA`.  \n",
    "- Standardized formatting to title case.  \n",
    "- Replaced these variations with the correct country names.  \n",
    "- Ensured all countries are consistently labeled for analysis.  \n"
   ]
  },
  {
   "cell_type": "code",
   "execution_count": 71,
   "id": "2ee5b4f5-ea72-48b5-95ce-1514b2a3f351",
   "metadata": {},
   "outputs": [],
   "source": [
    "# Convert to numeric\n",
    "data[\"Smoking\"] = pd.to_numeric(data[\"Smoking\"], errors=\"coerce\")\n",
    "\n",
    "# Treat invalid negatives\n",
    "data.loc[data[\"Smoking\"] < 0, \"Smoking\"] = np.nan\n",
    "\n",
    "# Fill missing/invalid with median\n",
    "data[\"Smoking\"] = data[\"Smoking\"].fillna(data[\"Smoking\"].median())"
   ]
  },
  {
   "cell_type": "markdown",
   "id": "2586b864-3a9a-459e-9705-4f99ecf9ef0a",
   "metadata": {},
   "source": [
    "### Handling Column: Smoking\n",
    "\n",
    "- Column represents smoking exposure scores (numeric).  \n",
    "- Found a few corrupted text entries (`\"False\"`, `\"Na\"`).  \n",
    "- Converted all values to numeric, coercing invalid entries into NaN.  \n",
    "- Negative values treated as invalid.  \n",
    "- Missing/invalid values imputed with the **median smoking score**.  "
   ]
  },
  {
   "cell_type": "code",
   "execution_count": 74,
   "id": "b5329586-8ec2-43ab-8701-4434fd724957",
   "metadata": {},
   "outputs": [
    {
     "data": {
      "text/plain": [
       "Obesity_Level\n",
       "8.3     566\n",
       "8.2     563\n",
       "6.8     560\n",
       "1.4     554\n",
       "2.7     548\n",
       "       ... \n",
       "1.1     450\n",
       "8.1     447\n",
       "6.5     445\n",
       "10.0    247\n",
       "0.0     242\n",
       "Name: count, Length: 101, dtype: int64"
      ]
     },
     "execution_count": 74,
     "metadata": {},
     "output_type": "execute_result"
    }
   ],
   "source": [
    "data[\"Obesity_Level\"].value_counts()"
   ]
  },
  {
   "cell_type": "code",
   "execution_count": 76,
   "id": "4e10e4d6-ca93-4f02-96bf-418a75e4b89a",
   "metadata": {},
   "outputs": [
    {
     "data": {
      "text/plain": [
       "0"
      ]
     },
     "execution_count": 76,
     "metadata": {},
     "output_type": "execute_result"
    }
   ],
   "source": [
    "data[\"Obesity_Level\"].isnull().sum()"
   ]
  },
  {
   "cell_type": "code",
   "execution_count": 78,
   "id": "65a9a5e0-4e6a-4e02-8a4e-0fd966bd897b",
   "metadata": {},
   "outputs": [],
   "source": [
    "# Convert to numeric (safeguard)\n",
    "data[\"Obesity_Level\"] = pd.to_numeric(data[\"Obesity_Level\"], errors=\"coerce\")\n",
    "\n",
    "# Remove impossible negatives\n",
    "data.loc[data[\"Obesity_Level\"] < 0, \"Obesity_Level\"] = np.nan\n",
    "\n",
    "# Fill missing/invalid with median\n",
    "data[\"Obesity_Level\"] = data[\"Obesity_Level\"].fillna(data[\"Obesity_Level\"].median())"
   ]
  },
  {
   "cell_type": "markdown",
   "id": "faac5fb0-e504-49bd-bc86-419d5521cd99",
   "metadata": {},
   "source": [
    "### Handling Column: Obesity_Level\n",
    "\n",
    "- Converted all entries to numeric, coercing invalid text into NaN.  \n",
    "- Negative values treated as invalid.  \n",
    "- Missing/invalid values imputed with the **median obesity level score**.  \n",
    "- This ensures the feature is consistent with other lifestyle risk factors.  \n"
   ]
  },
  {
   "cell_type": "code",
   "execution_count": 81,
   "id": "7c72ad76-d7a4-48a9-979e-b690ae8f674c",
   "metadata": {},
   "outputs": [],
   "source": [
    "def check_cancer_type(x):\n",
    "    cancers = [\"Colon\", \"Prostate\", \"Leukemia\", \"Liver\", \"Skin\", \"Cervical\", \"Breast\", \"Lung\"]\n",
    "    if x in cancers:\n",
    "        return x\n",
    "    else:\n",
    "        return \"Other\"\n",
    "\n",
    "data[\"Cancer_Type\"] = data[\"Cancer_Type\"].apply(check_cancer_type)"
   ]
  },
  {
   "cell_type": "markdown",
   "id": "798c5a41-730c-4847-b3d0-8225badee3e8",
   "metadata": {},
   "source": [
    "### Handling Column: Cancer_Type\n",
    "- Restricted cancer types to a curated list of 8 most frequent categories.  \n",
    "- Any entry outside this list was grouped into `\"Other\"` instead of mode imputation (avoids bias).  \n",
    "- This preserves signal while reducing noise from rare/unexpected entries.  \n"
   ]
  },
  {
   "cell_type": "code",
   "execution_count": 84,
   "id": "ada25c50-3d87-487e-9398-c02e417ac2df",
   "metadata": {},
   "outputs": [],
   "source": [
    "def check_Cancer_Stage(x):\n",
    "    stages=[\"Stage I\",\"Stage II\",\"Stage III\",\"Stage IV\",\"Stage 0\"]\n",
    "    wrong_stages={\"2\":\"Stage II\",\"0\":\"Stage 0\",\"1\":\"Stage I\",\"3\":\"Stage III\",\"4\":\"Stage IV\"}\n",
    "    if x in stages:\n",
    "        return x\n",
    "    elif x in wrong_stages:\n",
    "        return wrong_stages[x]\n",
    "    else:\n",
    "        return data[\"Cancer_Stage\"].mode()[0]\n",
    "\n",
    "data[\"Cancer_Stage\"]=data[\"Cancer_Stage\"].apply(check_Cancer_Stage)"
   ]
  },
  {
   "cell_type": "markdown",
   "id": "02e8f50a-5f21-4ada-9f9c-f77cc3c09245",
   "metadata": {},
   "source": [
    "### Handling Column: Cancer_stage\n",
    "- Found inconsistent labels: `\"1\"`, `\"2\"`, `\"3\"`, `\"4\"` instead of Roman numerals.  \n",
    "- Replaced them with correct values: `\"Stage I\"`, `\"Stage II\"`, `\"Stage III\"`, `\"Stage IV\"`.  \n",
    "- For corrupted or missing entries, used the mode (most frequent stage) as imputation.  "
   ]
  },
  {
   "cell_type": "code",
   "execution_count": 87,
   "id": "fe706f3b-fa90-4801-b0f4-cf04cecfbbf4",
   "metadata": {},
   "outputs": [],
   "source": [
    "def currency_converter(x):\n",
    "    if pd.isna(x):\n",
    "        return np.nan\n",
    "    new_value = str(x).replace(\"$\", \"\").replace(\"Rs.\", \"\").replace(\"Rs\", \"\").replace(\",\", \"\").strip()\n",
    "    try:\n",
    "        return float(new_value)\n",
    "    except ValueError:\n",
    "        return np.nan\n",
    "\n",
    "data[\"Treatment_Cost_USD\"] = data[\"Treatment_Cost_USD\"].apply(currency_converter)\n",
    "\n"
   ]
  },
  {
   "cell_type": "markdown",
   "id": "f7ce762e-7b92-43ab-9e31-30f75a4d0ebe",
   "metadata": {},
   "source": [
    "\n",
    "### Cleaning currency formats in Treatment_Cost_USD\n",
    "\n",
    "- Found inconsistent formats: `$5000`, `Rs. 300,000`, `12,000`.  \n",
    "- Wrote a custom function to strip currency symbols & commas, then convert to float.  \n",
    "- Invalid entries converted to NaN.  \n"
   ]
  },
  {
   "cell_type": "code",
   "execution_count": 90,
   "id": "b374dbcf-9832-4c70-bfdb-da3ec239acff",
   "metadata": {},
   "outputs": [],
   "source": [
    "index = 0\n",
    "for rows in data[\"Treatment_Cost_USD\"]:\n",
    "    if rows < 0:  # invalid cost\n",
    "        data.loc[index, \"Treatment_Cost_USD\"] = np.nan\n",
    "    index += 1\n",
    "\n",
    "# Fill missing/invalid with median\n",
    "data[\"Treatment_Cost_USD\"] = data[\"Treatment_Cost_USD\"].fillna(data[\"Treatment_Cost_USD\"].median())"
   ]
  },
  {
   "cell_type": "markdown",
   "id": "0ef89376-476e-4160-8b6e-855b012c8b5f",
   "metadata": {},
   "source": [
    "### Handling invalid and missing values in Treatment_Cost_USD\n",
    "\n",
    "- Identified negative costs → treated as invalid, set to NaN.  \n",
    "- Replaced missing/invalid values with the **median treatment cost**.  \n",
    "- This ensures cost data is realistic and ready for analysis.  \n",
    "\n"
   ]
  },
  {
   "cell_type": "code",
   "execution_count": 93,
   "id": "c69b662c-b3f9-4b53-83ce-3b4a705b7ad0",
   "metadata": {},
   "outputs": [],
   "source": [
    "# Convert to numeric, coerce errors\n",
    "data[\"Survival_Years\"] = pd.to_numeric(data[\"Survival_Years\"], errors=\"coerce\")\n",
    "\n",
    "# Handle negatives (impossible)\n",
    "data.loc[data[\"Survival_Years\"] < 0, \"Survival_Years\"] = np.nan\n",
    "\n",
    "# Handle extreme unrealistic values (say > 120 years)\n",
    "data.loc[data[\"Survival_Years\"] > 120, \"Survival_Years\"] = np.nan\n",
    "\n",
    "# Impute missing with median survival\n",
    "data[\"Survival_Years\"] = data[\"Survival_Years\"].fillna(data[\"Survival_Years\"].median())"
   ]
  },
  {
   "cell_type": "markdown",
   "id": "8524d42b-26f3-4a20-b900-fe5b55d93ae5",
   "metadata": {},
   "source": [
    "### Handling Column: Survival_Years  \n",
    "\n",
    "- Converted column to numeric and coerced invalid entries to NaN.  \n",
    "- Removed biologically implausible values (negative survival years or values >120).  \n",
    "- Imputed missing values with the median survival years.  \n",
    "- This ensured the variable reflects realistic patient outcomes for further analysis.  \n"
   ]
  },
  {
   "cell_type": "code",
   "execution_count": 96,
   "id": "329f966b-0951-49e5-b14f-39eb992ceaaf",
   "metadata": {},
   "outputs": [
    {
     "name": "stdout",
     "output_type": "stream",
     "text": [
      "Remaining columns: ['Age', 'Gender', 'Country_Region', 'Genetic_Risk', 'Air_Pollution', 'Alcohol_Use', 'Smoking', 'Obesity_Level', 'Cancer_Type', 'Cancer_Stage', 'Treatment_Cost_USD', 'Survival_Years']\n"
     ]
    }
   ],
   "source": [
    "# Drop unnecessary columns\n",
    "data = data.drop(columns=[\"Patient_ID\", \"Year\", \"Target_Severity_Score\"], errors=\"ignore\")\n",
    "\n",
    "# Check remaining columns\n",
    "print(\"Remaining columns:\", data.columns.tolist())"
   ]
  },
  {
   "cell_type": "markdown",
   "id": "a7010a29-e859-4a7f-8460-6ce9a7a8e7a6",
   "metadata": {},
   "source": [
    "### Dropping Non-Essential Columns\n",
    "\n",
    "- Dropped columns not relevant to our objectives:  \n",
    "  - `Patient_ID` (identifier, no predictive value)  \n",
    "  - `Year` (time reference, not needed for driver analysis)  \n",
    "  - `Target_Severity_Score` (synthetic column, redundant with stage/risk)  \n",
    "- This leaves only patient, clinical, lifestyle, and cost/survival variables for analysis.  \n"
   ]
  },
  {
   "cell_type": "markdown",
   "id": "b857972c-f81e-4a46-baee-08d8c18c9739",
   "metadata": {},
   "source": []
  },
  {
   "cell_type": "markdown",
   "id": "45eecd74-4aae-492d-83e6-d8dc3ff42b61",
   "metadata": {},
   "source": [
    "## Exploratory Data Analysis Plan\n",
    "\n",
    "- **Survival_Years**\n",
    "  - Distribution (histogram, summary stats).  \n",
    "  - Compare across Cancer_Stage, Cancer_Type, Gender, Age groups.  \n",
    "- **Treatment_Cost_USD**\n",
    "  - Distribution (histogram).  \n",
    "  - Compare across Cancer_Stage, Cancer_Type, Survival_Years.  \n",
    "- **Correlation Analysis**\n",
    "  - Heatmap of numeric features (Age, Genetic_Risk, Smoking, Alcohol_Use, Obesity_Level, Air_Pollution) with Survival_Years and Treatment_Cost_USD.  \n",
    "\n"
   ]
  },
  {
   "cell_type": "markdown",
   "id": "b73f9ffe-56e4-48f2-8ecd-87d7e401d1f5",
   "metadata": {},
   "source": [
    "### Distribution of Survival_Years"
   ]
  },
  {
   "cell_type": "code",
   "execution_count": 147,
   "id": "97ba7cb4-62cc-4762-8c91-234fe9e2e40d",
   "metadata": {},
   "outputs": [
    {
     "data": {
      "image/png": "[encoded data removed]",
      "text/plain": [
       "<Figure size 800x500 with 1 Axes>"
      ]
     },
     "metadata": {},
     "output_type": "display_data"
    }
   ],
   "source": [
    "# histogram\n",
    "plt.figure(figsize=(8,5))\n",
    "sns.histplot(data[\"Survival_Years\"], bins=30, kde=True)\n",
    "plt.title(\"Distribution of Survival Years\")\n",
    "plt.xlabel(\"Survival Years\")\n",
    "plt.ylabel(\"Count\")\n",
    "plt.show()"
   ]
  },
  {
   "cell_type": "code",
   "execution_count": 161,
   "id": "e56300fe-9495-407a-afb1-8943cfade8a6",
   "metadata": {},
   "outputs": [
    {
     "data": {
      "image/png": "[encoded data removed]",
      "text/plain": [
       "<Figure size 1000x600 with 1 Axes>"
      ]
     },
     "metadata": {},
     "output_type": "display_data"
    }
   ],
   "source": [
    "# Survival_Years vs Cancer Type\n",
    "plt.figure(figsize=(10,6))\n",
    "sns.boxplot(x=\"Cancer_Type\", y=\"Survival_Years\", data=data)\n",
    "plt.title(\"Survival Years by Cancer Type\")\n",
    "plt.xticks(rotation=45)\n",
    "plt.show()"
   ]
  },
  {
   "cell_type": "code",
   "execution_count": 153,
   "id": "e6094f15-389b-4b11-ac76-7b76c22e8c5e",
   "metadata": {},
   "outputs": [
    {
     "data": {
      "image/png": "[encoded data removed]",
      "text/plain": [
       "<Figure size 600x400 with 1 Axes>"
      ]
     },
     "metadata": {},
     "output_type": "display_data"
    }
   ],
   "source": [
    "# Survival_Years vs Gender\n",
    "plt.figure(figsize=(6,4))\n",
    "sns.boxplot(x=\"Gender\", y=\"Survival_Years\", data=data)\n",
    "plt.title(\"Survival Years by Gender\")\n",
    "plt.show()\n"
   ]
  },
  {
   "cell_type": "code",
   "execution_count": 151,
   "id": "a59a40ed-c565-46b7-92fb-4717737ab80f",
   "metadata": {},
   "outputs": [
    {
     "data": {
      "image/png": "[encoded data removed]",
      "text/plain": [
       "<Figure size 800x500 with 1 Axes>"
      ]
     },
     "metadata": {},
     "output_type": "display_data"
    }
   ],
   "source": [
    "#Survival_Years vs Cancer Stage\n",
    "plt.figure(figsize=(8,5))\n",
    "sns.boxplot(x=\"Cancer_Stage\", y=\"Survival_Years\", data=data)\n",
    "plt.title(\"Survival Years by Cancer Stage\")\n",
    "plt.show()\n"
   ]
  },
  {
   "cell_type": "code",
   "execution_count": 149,
   "id": "275d4d02-6311-4607-b507-27b0d0bf262c",
   "metadata": {},
   "outputs": [
    {
     "data": {
      "image/png": "[encoded data removed]",
      "text/plain": [
       "<Figure size 800x500 with 1 Axes>"
      ]
     },
     "metadata": {},
     "output_type": "display_data"
    }
   ],
   "source": [
    "# Survival_Years vs Age Groups\n",
    "# create age groups\n",
    "bins = [0,20,40,60,80,100]\n",
    "labels = [\"0-20\",\"21-40\",\"41-60\",\"61-80\",\"81-100\"]\n",
    "data[\"Age_Group\"] = pd.cut(data[\"Age\"], bins=bins, labels=labels, right=True)\n",
    "\n",
    "plt.figure(figsize=(8,5))\n",
    "sns.boxplot(x=\"Age_Group\", y=\"Survival_Years\", data=data)\n",
    "plt.title(\"Survival Years by Age Group\")\n",
    "plt.show()"
   ]
  },
  {
   "cell_type": "code",
   "execution_count": 113,
   "id": "63cebe35-d1ae-4d3b-bae3-16024dd93392",
   "metadata": {},
   "outputs": [
    {
     "data": {
      "image/png": "[encoded data removed]",
      "text/plain": [
       "<Figure size 1000x800 with 2 Axes>"
      ]
     },
     "metadata": {},
     "output_type": "display_data"
    }
   ],
   "source": [
    "#make heatmap \n",
    "\n",
    "# Convert relevant columns to numeric, coercing errors\n",
    "numerical_cols = [\n",
    "    'Age', 'Air_Pollution', 'Alcohol_Use', 'Smoking', \n",
    "    'Obesity_Level', 'Genetic_Risk', 'Treatment_Cost_USD', \n",
    "    'Survival_Years']\n",
    "data[numerical_cols] = data[numerical_cols].apply(pd.to_numeric, errors='coerce')\n",
    "\n",
    "# Compute correlation matrix\n",
    "correlation_matrix = data[numerical_cols].corr()\n",
    "\n",
    "# Create heatmap\n",
    "plt.figure(figsize=(10, 8))\n",
    "sns.heatmap(correlation_matrix, annot=True)\n",
    "plt.title('Correlation Heatmap of Patient Data')\n",
    "plt.xticks(rotation=60)\n",
    "plt.tight_layout()\n",
    "plt.show()"
   ]
  },
  {
   "cell_type": "code",
   "execution_count": null,
   "id": "9e037f3e-bdb1-4d79-977b-e1d893f91fb2",
   "metadata": {},
   "outputs": [],
   "source": []
  },
  {
   "cell_type": "code",
   "execution_count": null,
   "id": "24266fdc-295c-42be-8bd2-927680f62a16",
   "metadata": {},
   "outputs": [],
   "source": []
  }
 ],
 "metadata": {
  "kernelspec": {
   "display_name": "Python [conda env:base] *",
   "language": "python",
   "name": "conda-base-py"
  },
  "language_info": {
   "codemirror_mode": {
    "name": "ipython",
    "version": 3
   },
   "file_extension": ".py",
   "mimetype": "text/x-python",
   "name": "python",
   "nbconvert_exporter": "python",
   "pygments_lexer": "ipython3",
   "version": "3.12.7"
  }
 },
 "nbformat": 4,
 "nbformat_minor": 5
}
